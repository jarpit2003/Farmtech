{
 "cells": [
  {
   "cell_type": "code",
   "execution_count": 23,
   "id": "3919b241-0721-457a-b1e7-a49b4fc2f81f",
   "metadata": {},
   "outputs": [
    {
     "name": "stdout",
     "output_type": "stream",
     "text": [
      "<class 'pandas.core.frame.DataFrame'>\n",
      "RangeIndex: 2200 entries, 0 to 2199\n",
      "Data columns (total 8 columns):\n",
      " #   Column       Non-Null Count  Dtype  \n",
      "---  ------       --------------  -----  \n",
      " 0   N            2200 non-null   int64  \n",
      " 1   P            2200 non-null   int64  \n",
      " 2   K            2200 non-null   int64  \n",
      " 3   temperature  2200 non-null   float64\n",
      " 4   humidity     2200 non-null   float64\n",
      " 5   ph           2200 non-null   float64\n",
      " 6   rainfall     2200 non-null   float64\n",
      " 7   label        2200 non-null   object \n",
      "dtypes: float64(4), int64(3), object(1)\n",
      "memory usage: 137.6+ KB\n",
      "Mean Squared Error: 2.40\n",
      "R-squared: 0.94\n"
     ]
    },
    {
     "data": {
      "text/plain": [
       "['crop.pkl']"
      ]
     },
     "execution_count": 23,
     "metadata": {},
     "output_type": "execute_result"
    }
   ],
   "source": [
    "import numpy as np\n",
    "import pandas as pd\n",
    "from sklearn.preprocessing import LabelEncoder, StandardScaler\n",
    "from sklearn.model_selection import train_test_split\n",
    "from sklearn.metrics import mean_squared_error, r2_score\n",
    "from sklearn.ensemble import RandomForestRegressor\n",
    "import joblib\n",
    "\n",
    "# Load the data\n",
    "data = pd.read_csv('cp.csv')\n",
    "data.info()\n",
    "# Create separate label encoders for each categorical column\n",
    "le_crop = LabelEncoder()\n",
    "\n",
    "\n",
    "# Encode categorical columns\n",
    "data['label'] = le_crop.fit_transform(data['label'])\n",
    "\n",
    "# # Prepare features and target\n",
    "X = data.drop('label', axis=1)  # All columns except 'label' as features\n",
    "y = data['label']  # 'label' as the target\n",
    "\n",
    "# Scale the features\n",
    "scaler = StandardScaler()\n",
    "X_scaled = scaler.fit_transform(X)\n",
    "\n",
    "# Split the data into training and testing sets\n",
    "X_train, X_test, y_train, y_test = train_test_split(X_scaled, y, test_size=0.2, random_state=42)\n",
    "\n",
    "# Initialize and train the model\n",
    "model = RandomForestRegressor(n_estimators=100, random_state=42)\n",
    "model.fit(X_train, y_train)\n",
    "\n",
    "# Make predictions\n",
    "y_pred = model.predict(X_test)\n",
    "\n",
    "# Evaluate the model\n",
    "mse = mean_squared_error(y_test, y_pred)\n",
    "r2 = r2_score(y_test, y_pred)\n",
    "print(f\"Mean Squared Error: {mse:.2f}\")\n",
    "print(f\"R-squared: {r2:.2f}\")\n",
    "\n",
    "\n",
    "# # Save the model and preprocessing objects (uncomment if needed)\n",
    "joblib.dump(model, 'random_forest_model.pkl')\n",
    "joblib.dump(scaler, 'scaler1.pkl')\n",
    "joblib.dump(le_crop, 'crop.pkl')\n"
   ]
  },
  {
   "cell_type": "code",
   "execution_count": 21,
   "id": "deb39666-6e2a-4f34-aead-0b4ac5e58c9c",
   "metadata": {},
   "outputs": [
    {
     "name": "stdout",
     "output_type": "stream",
     "text": [
      "Predicted Labels: ['mothbeans']\n"
     ]
    }
   ],
   "source": [
    "import numpy as np\n",
    "import pandas as pd\n",
    "import joblib\n",
    "\n",
    "# Load the model and preprocessing objects\n",
    "model = joblib.load('random_forest_model.pkl')\n",
    "scaler = joblib.load('scaler.pkl')\n",
    "le_crop = joblib.load('crop.pkl')\n",
    "\n",
    "# Example test data (replace with your actual test data)\n",
    "test_data = pd.DataFrame({\n",
    "    'N': [2],  # Example value for Nitrogen\n",
    "    'P': [3],  # Example value for Phosphorus\n",
    "    'K': [4],  # Example value for Potassium\n",
    "    'temperature': [25.0],  # Example value for Temperature\n",
    "    'humidity': [60.0],     # Example value for Humidity\n",
    "    'ph': [6.5],            # Example value for pH\n",
    "    'rainfall': [100]       # Example value for Rainfall\n",
    "})\n",
    "\n",
    "# Preprocess the test data\n",
    "X_test = test_data\n",
    "\n",
    "# Scale the test data\n",
    "X_test_scaled = scaler.transform(X_test)\n",
    "\n",
    "# Make predictions\n",
    "predictions = model.predict(X_test_scaled)\n",
    "\n",
    "# Convert numerical predictions back to labels\n",
    "# Assuming predictions are integer encoded labels\n",
    "predicted_labels = le_crop.inverse_transform(predictions.astype(int))\n",
    "\n",
    "# Print the predictions in terms of strings\n",
    "print(\"Predicted Labels:\", predicted_labels)\n"
   ]
  },
  {
   "cell_type": "code",
   "execution_count": null,
   "id": "a3e6b55a-9828-4d7d-9040-fdf1ee0c993e",
   "metadata": {},
   "outputs": [],
   "source": []
  }
 ],
 "metadata": {
  "kernelspec": {
   "display_name": "Python 3 (ipykernel)",
   "language": "python",
   "name": "python3"
  },
  "language_info": {
   "codemirror_mode": {
    "name": "ipython",
    "version": 3
   },
   "file_extension": ".py",
   "mimetype": "text/x-python",
   "name": "python",
   "nbconvert_exporter": "python",
   "pygments_lexer": "ipython3",
   "version": "3.12.4"
  }
 },
 "nbformat": 4,
 "nbformat_minor": 5
}
